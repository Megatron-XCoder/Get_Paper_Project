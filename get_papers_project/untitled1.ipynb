{
 "metadata": {
  "kernelspec": {
   "name": "python3",
   "display_name": "Python 3 (ipykernel)",
   "language": "python"
  },
  "language_info": {
   "codemirror_mode": {
    "name": "python",
    "version": 3
   },
   "file_extension": ".py",
   "mimetype": "text/x-python",
   "name": "python",
   "nbconvert_exporter": "python",
   "pygments_lexer": "ipython3",
   "version": "3.8"
  }
 },
 "nbformat_minor": 5,
 "nbformat": 4,
 "cells": [
  {
   "id": "1fdb2a56-057f-4cfb-bf33-2cbb1325b739",
   "cell_type": "code",
   "source": "import argparse\nimport csv\nimport sys\nimport requests\nimport xml.etree.ElementTree as ET\nfrom datetime import datetime\n\n\ndef fetch_papers(query, max_results=100, debug=False):\n    base_url = \"https://eutils.ncbi.nlm.nih.gov/entrez/eutils/\"\n\n    if debug:\n        print(f\"Fetching papers for query: {query}\")\n\n    # Search for paper IDs\n    search_url = f\"{base_url}esearch.fcgi?db=pubmed&term={query}&retmax={max_results}&usehistory=y\"\n    response = requests.get(search_url)\n    root = ET.fromstring(response.content)\n\n    id_list = [id_elem.text for id_elem in root.findall(\".//Id\")]\n    web_env = root.find(\".//WebEnv\").text\n    query_key = root.find(\".//QueryKey\").text\n\n    if debug:\n        print(f\"Found {len(id_list)} papers\")\n\n    # Fetch paper details\n    fetch_url = f\"{base_url}efetch.fcgi?db=pubmed&query_key={query_key}&WebEnv={web_env}&retmode=xml\"\n    response = requests.get(fetch_url)\n    papers = ET.fromstring(response.content)\n\n    return papers.findall(\".//PubmedArticle\")\n\n\ndef is_non_academic(affiliation):\n    academic_keywords = [\"university\", \"college\", \"institute\", \"school\"]\n    return not any(keyword in affiliation.lower() for keyword in academic_keywords)\n\n\ndef is_pharma_biotech(affiliation):\n    pharma_biotech_keywords = [\"pharma\", \"biotech\", \"pharmaceutical\", \"biotechnology\"]\n    return any(keyword in affiliation.lower() for keyword in pharma_biotech_keywords)\n\n\ndef filter_papers(papers, debug=False):\n    filtered_papers = []\n    for paper in papers:\n        affiliations = paper.findall(\".//Affiliation\")\n        authors = paper.findall(\".//Author\")\n        non_academic_authors = []\n        company_affiliations = set()\n\n        for author in authors:\n            last_name = author.find(\"LastName\")\n            fore_name = author.find(\"ForeName\")\n            if last_name is not None and fore_name is not None:\n                author_name = f\"{last_name.text} {fore_name.text}\"\n                author_affiliation = author.find(\"AffiliationInfo/Affiliation\")\n                if author_affiliation is not None and author_affiliation.text:\n                    if is_non_academic(author_affiliation.text):\n                        non_academic_authors.append(author_name)\n                        if is_pharma_biotech(author_affiliation.text):\n                            company_affiliations.add(author_affiliation.text.split(',')[0].strip())\n\n        if non_academic_authors:\n            paper_data = {\n                'pmid': paper.find(\".//PMID\").text,\n                'title': paper.find(\".//ArticleTitle\").text,\n                'pub_date': get_publication_date(paper),\n                'non_academic_authors': ', '.join(non_academic_authors),\n                'company_affiliations': ', '.join(company_affiliations),\n                'corresponding_author_email': get_corresponding_author_email(paper)\n            }\n            filtered_papers.append(paper_data)\n\n    if debug:\n        print(f\"Filtered {len(filtered_papers)} papers with non-academic authors\")\n\n    return filtered_papers\n\n\ndef get_publication_date(paper):\n    pub_date = paper.find(\".//PubDate\")\n    year = pub_date.find(\"Year\").text if pub_date.find(\"Year\") is not None else \"\"\n    month = pub_date.find(\"Month\").text if pub_date.find(\"Month\") is not None else \"\"\n    day = pub_date.find(\"Day\").text if pub_date.find(\"Day\") is not None else \"\"\n\n    if month.isalpha():\n        try:\n            month = datetime.strptime(month, \"%b\").month\n        except ValueError:\n            month = \"\"\n\n    # Convert month and day to integers if possible\n    try:\n        month = int(month)\n    except ValueError:\n        month = \"\"\n\n    try:\n        day = int(day)\n    except ValueError:\n        day = \"\"\n\n    if year and month and day:\n        return f\"{year}-{month:02d}-{day:02d}\"\n    elif year and month:\n        return f\"{year}-{month:02d}\"\n    else:\n        return year\n\n\ndef get_corresponding_author_email(paper):\n    for author in paper.findall(\".//Author\"):\n        if author.get(\"ValidYN\") == \"Y\" and author.find(\"AffiliationInfo/Affiliation\") is not None:\n            affiliation = author.find(\"AffiliationInfo/Affiliation\").text\n            email = next((word for word in affiliation.split() if \"@\" in word), None)\n            if email:\n                return email.strip(\".\")\n    return \"\"\n\n\ndef write_output(papers, file=None, debug=False):\n    fieldnames = ['PubmedID', 'Title', 'Publication Date', 'Non-academic Author(s)',\n                  'Company Affiliation(s)', 'Corresponding Author Email']\n\n    if file:\n        with open(file, 'w', newline='', encoding='utf-8') as csvfile:\n            writer = csv.DictWriter(csvfile, fieldnames=fieldnames)\n            writer.writeheader()\n            for paper in papers:\n                write_paper(writer, paper)\n        if debug:\n            print(f\"Results written to {file}\")\n    else:\n        writer = csv.DictWriter(sys.stdout, fieldnames=fieldnames)\n        writer.writeheader()\n        for paper in papers:\n            write_paper(writer, paper)\n\n\ndef write_paper(writer, paper):\n    writer.writerow({\n        'PubmedID': paper['pmid'],\n        'Title': paper['title'],\n        'Publication Date': paper['pub_date'],\n        'Non-academic Author(s)': paper['non_academic_authors'],\n        'Company Affiliation(s)': paper['company_affiliations'],\n        'Corresponding Author Email': paper['corresponding_author_email']\n    })\n\n\ndef main():\n    query = input('Enter your PubMed query: ')\n    debug = input('Enable debug? (y/n): ') == 'y'\n    file = input('Enter the filename to save results (optional): ')\n\n    papers = fetch_papers(query, debug=debug)\n    filtered_papers = filter_papers(papers, debug=debug)\n    write_output(filtered_papers, file, debug=debug)\n\nif __name__ == \"__main__\":\n    main()",
   "metadata": {
    "trusted": true,
    "ExecuteTime": {
     "end_time": "2025-01-09T18:20:05.936678Z",
     "start_time": "2025-01-09T18:16:23.880323Z"
    }
   },
   "outputs": [
    {
     "name": "stdout",
     "output_type": "stream",
     "text": [
      "Fetching papers for query: cancer and heart with brain\n",
      "Found 100 papers\n",
      "Filtered 2672 papers with non-academic authors\n",
      "Results written to note.csv\n"
     ]
    }
   ],
   "execution_count": 1
  }
 ]
}
